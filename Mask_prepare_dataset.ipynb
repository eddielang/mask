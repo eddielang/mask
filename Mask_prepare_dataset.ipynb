{
 "cells": [
  {
   "cell_type": "markdown",
   "metadata": {
    "colab_type": "text",
    "id": "view-in-github"
   },
   "source": [
    "<a href=\"https://colab.research.google.com/github/cacheop/facemask-detection/blob/master/Mask_prepare_dataset.ipynb\" target=\"_parent\"><img src=\"https://colab.research.google.com/assets/colab-badge.svg\" alt=\"Open In Colab\"/></a>"
   ]
  },
  {
   "cell_type": "markdown",
   "metadata": {
    "colab_type": "text",
    "id": "GBXfvyGIKwJi"
   },
   "source": [
    "# Imports"
   ]
  },
  {
   "cell_type": "markdown",
   "metadata": {
    "colab_type": "text",
    "id": "3v8L1UBe8sGL"
   },
   "source": [
    "### Mount Google Drive"
   ]
  },
  {
   "cell_type": "code",
   "execution_count": 54,
   "metadata": {
    "colab": {
     "base_uri": "https://localhost:8080/",
     "height": 34
    },
    "colab_type": "code",
    "id": "zXIZ2mtjRu-i",
    "outputId": "40aa435b-6b03-411b-d2ef-19342eff2022"
   },
   "outputs": [
    {
     "name": "stdout",
     "output_type": "stream",
     "text": [
      "date and time: 06-15-2020--21-13-53\n"
     ]
    }
   ],
   "source": [
    "from datetime import datetime\n",
    "\n",
    "now = datetime.now() # current date and time\n",
    "date_time = now.strftime(\"%m-%d-%Y--%H-%M-%S\")\n",
    "print(\"date and time:\",date_time)\t"
   ]
  },
  {
   "cell_type": "code",
   "execution_count": 55,
   "metadata": {
    "colab": {
     "base_uri": "https://localhost:8080/",
     "height": 561
    },
    "colab_type": "code",
    "id": "qvHKuXBCfd2e",
    "outputId": "36357ec7-2de2-4c1a-942a-d355a3d1d7f7"
   },
   "outputs": [],
   "source": [
    "import tensorflow as tf\n",
    "import os\n",
    "from psutil import virtual_memory\n",
    "import os\n",
    "import cv2\n",
    "import matplotlib.pyplot as plt\n",
    "import xmltodict\n",
    "import random\n",
    "import glob\n",
    "import pandas as pd\n",
    "import xml.etree.ElementTree as ET\n",
    "from tqdm import tqdm, trange"
   ]
  },
  {
   "cell_type": "markdown",
   "metadata": {
    "colab_type": "text",
    "id": "ujRjAwPnxMXE"
   },
   "source": [
    "# Split data folder into Test and Train\n"
   ]
  },
  {
   "cell_type": "code",
   "execution_count": 56,
   "metadata": {
    "colab": {},
    "colab_type": "code",
    "id": "-gOb1tZA89CX"
   },
   "outputs": [],
   "source": [
    "from random import choice\n",
    "import os\n",
    "import shutil\n",
    "from glob import glob                                                           \n",
    "import cv2 \n",
    "\n",
    "#setup dir names\n",
    "HOME_DIR = \"data/\"\n",
    "img_path = HOME_DIR + 'images/' #dir with images \n",
    "xml_path = HOME_DIR + 'labels/' #dir with annotations \n",
    "\n",
    "train_path = HOME_DIR + 'train/'\n",
    "train_path_images = train_path + 'images/'\n",
    "train_path_xml = train_path + 'labels/'\n",
    "train_path_csv = train_path + 'csv/'\n",
    "\n",
    "test_path = HOME_DIR + 'test/'\n",
    "test_path_images = test_path + 'images/'\n",
    "test_path_xml = test_path + 'labels/'\n",
    "test_path_csv = test_path + 'csv/'"
   ]
  },
  {
   "cell_type": "code",
   "execution_count": 57,
   "metadata": {
    "colab": {
     "base_uri": "https://localhost:8080/",
     "height": 68
    },
    "colab_type": "code",
    "id": "L2cTzlYYbJll",
    "outputId": "007d2e6e-49de-4d7b-ed29-b673d56520a1"
   },
   "outputs": [
    {
     "name": "stdout",
     "output_type": "stream",
     "text": [
      "Converting pngs...\n",
      "Renaming jpeg to jpg...\n",
      "Renaming JPG to jpg...\n",
      "data/images\\0450908675_50159485_mutation-virus-chine-inquietude.jpg data/images\\0450908675_50159485_mutation-virus-chine-inquietude.jpg\n",
      "data/images\\190327-05_1024.jpg data/images\\190327-05_1024.jpg\n",
      "data/images\\20200129001040.jpg data/images\\20200129001040.jpg\n",
      "data/images\\20200206132618-c9fcbba8.jpg data/images\\20200206132618-c9fcbba8.jpg\n",
      "data/images\\2bd1431c-e585-4faf-b54c-0c25ae00d725.jpg data/images\\2bd1431c-e585-4faf-b54c-0c25ae00d725.jpg\n",
      "data/images\\89c93a24-3f73-11ea-a16e-39b824591591_image_hires_211659.jpg data/images\\89c93a24-3f73-11ea-a16e-39b824591591_image_hires_211659.jpg\n",
      "data/images\\b3907fd44a737877c847748438b72de9size_1000x561_size.jpg data/images\\b3907fd44a737877c847748438b72de9size_1000x561_size.jpg\n",
      "data/images\\organizacion-preocupacion-potencial-virus-propague.jpg data/images\\organizacion-preocupacion-potencial-virus-propague.jpg\n"
     ]
    }
   ],
   "source": [
    "pngs = glob(img_path +'*.png')\n",
    "jpegs = glob(img_path +'*.jpeg')\n",
    "JPGs = glob(img_path +'*.JPG')\n",
    "\n",
    "print(\"Converting pngs...\")\n",
    "for j in pngs:\n",
    "    img = cv2.imread(j)\n",
    "    cv2.imwrite(j[:-3] + 'jpg', img)\n",
    "    print(j)\n",
    "    os.remove(j)\n",
    "\n",
    "print(\"Renaming jpeg to jpg...\")\n",
    "for name in jpegs:\n",
    "    new_name = name[:-5] +'.jpg'\n",
    "    print(name, new_name)\n",
    "    os.rename(name, new_name)\n",
    "\n",
    "\n",
    "print(\"Renaming JPG to jpg...\")\n",
    "for name in JPGs:\n",
    "    new_name = name[:-4] +'.jpg'\n",
    "    print(name, new_name)\n",
    "    os.rename(name, new_name)\n",
    "\n",
    "# TO-DO: fix XML reference from PNG and JPEG to JPG"
   ]
  },
  {
   "cell_type": "code",
   "execution_count": 58,
   "metadata": {
    "colab": {
     "base_uri": "https://localhost:8080/",
     "height": 34
    },
    "colab_type": "code",
    "id": "Wjh5EC9lq0RM",
    "outputId": "d6c24376-7f64-4e4d-9c69-3e31c99f408f"
   },
   "outputs": [
    {
     "name": "stdout",
     "output_type": "stream",
     "text": [
      "There are 4.0 images and  4.0 annotations.\n"
     ]
    }
   ],
   "source": [
    "#arrays to store file names\n",
    "imgs = []\n",
    "xmls = []\n",
    "\n",
    "#split ratio \n",
    "train_ratio = 0.8\n",
    "test_ratio = 0.1\n",
    "\n",
    "#total count of imgs + annotations\n",
    "total_img_count = len(os.listdir(img_path))/2\n",
    "total_xml_count = len(os.listdir(xml_path))/2\n",
    "print ('There are', total_img_count, 'images and ', total_xml_count, 'annotations.')\n",
    "\n",
    "#they gotta be the same count\n",
    "if (total_img_count != total_img_count):\n",
    "    print (\"WARNING: mismatch!\")"
   ]
  },
  {
   "cell_type": "code",
   "execution_count": 59,
   "metadata": {
    "colab": {
     "base_uri": "https://localhost:8080/",
     "height": 1000
    },
    "colab_type": "code",
    "id": "-FtILWThwyb1",
    "outputId": "d8fd9bd4-fa56-4f67-b497-ab3c73a400f7"
   },
   "outputs": [
    {
     "name": "stdout",
     "output_type": "stream",
     "text": [
      "Removed  0 not paired XML files for good\n",
      "Images 8\n",
      "XML files 8\n",
      "Split files:  6 0\n",
      "Train:    [ 0450908675_50159485_mutation-virus-chine-inquietude.jpg ] \n",
      "[ 0450908675_50159485_mutation-virus-chine-inquietude.xml ]\n",
      "\n",
      "\n",
      "Train:    [ 2bd1431c-e585-4faf-b54c-0c25ae00d725.jpg ] \n",
      "[ 2bd1431c-e585-4faf-b54c-0c25ae00d725.xml ]\n",
      "\n",
      "\n",
      "Train:    [ 89c93a24-3f73-11ea-a16e-39b824591591_image_hires_211659.jpg ] \n",
      "[ 89c93a24-3f73-11ea-a16e-39b824591591_image_hires_211659.xml ]\n",
      "\n",
      "\n",
      "Train:    [ organizacion-preocupacion-potencial-virus-propague.jpg ] \n",
      "[ organizacion-preocupacion-potencial-virus-propague.xml ]\n",
      "\n",
      "\n",
      "Train:    [ 20200129001040.jpg ] \n",
      "[ 20200129001040.xml ]\n",
      "\n",
      "\n",
      "Train:    [ 190327-05_1024.jpg ] \n",
      "[ 190327-05_1024.xml ]\n",
      "\n",
      "\n",
      "Total images:  4.0\n"
     ]
    }
   ],
   "source": [
    "import os.path\n",
    "\n",
    "not_paired = 0\n",
    "\n",
    "#sorting files to corresponding arrays\n",
    "for (dirname, dirs, files) in os.walk(xml_path):\n",
    "    for filename in files:\n",
    "        img_file_pair = img_path + filename[:-4] + '.jpg'\n",
    "        if os.path.isfile(img_file_pair):\n",
    "            xmls.append(filename)\n",
    "        else:\n",
    "            print(\"will remove\", filename)\n",
    "            not_paired += 1\n",
    "            os.remove(dirname+filename)\n",
    "print('Removed ', not_paired, 'not paired XML files for good')\n",
    "\n",
    "for (dirname, dirs, files) in os.walk(img_path):\n",
    "    for filename in files:\n",
    "        imgs.append(filename)\n",
    "\n",
    "total_imgs = len(imgs)\n",
    "total_xmls = len(xmls)\n",
    "print('Images', total_imgs)\n",
    "print('XML files', total_xmls)\n",
    "\n",
    "#counting range for cycles\n",
    "\n",
    "count_for_train = int(len(imgs)*train_ratio)\n",
    "count_for_test = int(len(imgs)*test_ratio)\n",
    "\n",
    "print(\"Split files: \", count_for_train, count_for_test)\n",
    "\n",
    "#cycle for train dir images\n",
    "for x in range(count_for_train):\n",
    "    file_jpg = choice(imgs) # get name of random image from origin dir\n",
    "    file_xml = file_jpg[:-4] +'.xml' # get name of corresponding annotation file\n",
    "    print(\"Train:    [\", file_jpg,\"]\", \"\\n[\", file_xml,\"]\\n\\n\")\n",
    "\n",
    "    #move both files into train dir\n",
    "    shutil.move(os.path.join(img_path, file_jpg), os.path.join(train_path_images, file_jpg))\n",
    "    imgs.remove(file_jpg)\n",
    "\n",
    "    shutil.move(os.path.join(xml_path, file_xml), os.path.join(train_path_xml, file_xml))\n",
    "    xmls.remove(file_xml)\n",
    "\n",
    "#cycle for test dir   \n",
    "for x in range(count_for_test):\n",
    "\n",
    "    file_jpg = choice(imgs) # get name of random image from origin dir\n",
    "    file_xml = file_jpg[:-4] +'.xml' # get name of corresponding annotation file\n",
    "    print(\"Test:  [\", file_jpg,\"]\", \"\\n[\", file_xml,\"]\\n\\n\")\n",
    "\n",
    "\n",
    "    #move both files into test dir\n",
    "    shutil.move(os.path.join(img_path, file_jpg), os.path.join(test_path_images, file_jpg))\n",
    "    imgs.remove(file_jpg)\n",
    "\n",
    "    shutil.move(os.path.join(xml_path, file_xml), os.path.join(test_path_xml, file_xml))\n",
    "    xmls.remove(file_xml)\n",
    "\n",
    "#rest of files will be validation files, so rename origin dir to val dir\n",
    "#os.rename(crsPath, valPath)\n",
    "\n",
    "#summary information after splitting\n",
    "print('Total images: ', total_img_count)"
   ]
  },
  {
   "cell_type": "code",
   "execution_count": 60,
   "metadata": {
    "colab": {
     "base_uri": "https://localhost:8080/",
     "height": 85
    },
    "colab_type": "code",
    "id": "9Jb8bg__CBSt",
    "outputId": "700896bc-a49e-4cf4-9f4a-4888fcd1742b"
   },
   "outputs": [
    {
     "name": "stdout",
     "output_type": "stream",
     "text": [
      "Images in train dir: 603\n",
      "Images in test dir: 73\n",
      "XMLs in train dir: 603\n",
      "XMLs in test dir: 73\n"
     ]
    }
   ],
   "source": [
    "print('Images in train dir:', len(os.listdir(train_path_images)))\n",
    "print('Images in test dir:', len(os.listdir(test_path_images)))\n",
    "print('XMLs in train dir:', len(os.listdir(train_path_xml)))\n",
    "print('XMLs in test dir:', len(os.listdir(test_path_xml)))"
   ]
  },
  {
   "cell_type": "markdown",
   "metadata": {
    "colab_type": "text",
    "id": "wZVBAdkMxP0X"
   },
   "source": [
    "# XML to CSV"
   ]
  },
  {
   "cell_type": "code",
   "execution_count": 61,
   "metadata": {
    "colab": {},
    "colab_type": "code",
    "id": "t2h12_1s3vIV"
   },
   "outputs": [],
   "source": [
    "from glob import glob                                                           \n",
    "from tqdm import tqdm, trange\n",
    "import xml.etree.ElementTree as ET\n",
    "import xmltodict\n",
    "import pandas as pd\n",
    "\n",
    "def xml_to_csv(path):\n",
    "    print(\"------------->\", path)\n",
    "    xml_list = []\n",
    "    for xml_file in tqdm(glob(path + '/*.xml')):\n",
    "        tree = ET.parse(xml_file)\n",
    "        root = tree.getroot()\n",
    "        for member in root.findall('object'):\n",
    "            value = (root.find('filename').text,\n",
    "                     int(root.find('size')[0].text),\n",
    "                     int(root.find('size')[1].text),\n",
    "                     member[0].text,\n",
    "                     int(member[4][0].text),\n",
    "                     int(member[4][1].text),\n",
    "                     int(member[4][2].text),\n",
    "                     int(member[4][3].text)\n",
    "                     )\n",
    "            xml_list.append(value)\n",
    "    column_name = ['filename', 'width', 'height', 'class', 'xmin', 'ymin', 'xmax', 'ymax']\n",
    "    xml_df = pd.DataFrame(xml_list, columns=column_name)\n",
    "    return xml_df"
   ]
  },
  {
   "cell_type": "code",
   "execution_count": 62,
   "metadata": {
    "colab": {
     "base_uri": "https://localhost:8080/",
     "height": 272
    },
    "colab_type": "code",
    "id": "hUkutUW94KJd",
    "outputId": "d60b01cd-c75f-4a7b-b360-8fbeeaf9fa92"
   },
   "outputs": [
    {
     "name": "stderr",
     "output_type": "stream",
     "text": [
      " 44%|██████████████████████████████████                                            | 263/603 [00:00<00:00, 2239.33it/s]"
     ]
    },
    {
     "name": "stdout",
     "output_type": "stream",
     "text": [
      "Converting XMLs in folder:  data/train/labels/ ...\n",
      "\n",
      "-------------> data/train/labels/\n"
     ]
    },
    {
     "name": "stderr",
     "output_type": "stream",
     "text": [
      "100%|██████████████████████████████████████████████████████████████████████████████| 603/603 [00:00<00:00, 3131.45it/s]\n"
     ]
    },
    {
     "data": {
      "text/html": [
       "<div>\n",
       "<style scoped>\n",
       "    .dataframe tbody tr th:only-of-type {\n",
       "        vertical-align: middle;\n",
       "    }\n",
       "\n",
       "    .dataframe tbody tr th {\n",
       "        vertical-align: top;\n",
       "    }\n",
       "\n",
       "    .dataframe thead th {\n",
       "        text-align: right;\n",
       "    }\n",
       "</style>\n",
       "<table border=\"1\" class=\"dataframe\">\n",
       "  <thead>\n",
       "    <tr style=\"text-align: right;\">\n",
       "      <th></th>\n",
       "      <th>filename</th>\n",
       "      <th>width</th>\n",
       "      <th>height</th>\n",
       "      <th>class</th>\n",
       "      <th>xmin</th>\n",
       "      <th>ymin</th>\n",
       "      <th>xmax</th>\n",
       "      <th>ymax</th>\n",
       "    </tr>\n",
       "  </thead>\n",
       "  <tbody>\n",
       "    <tr>\n",
       "      <th>0</th>\n",
       "      <td>-1x-1.jpg</td>\n",
       "      <td>2000</td>\n",
       "      <td>1363</td>\n",
       "      <td>good</td>\n",
       "      <td>10</td>\n",
       "      <td>750</td>\n",
       "      <td>252</td>\n",
       "      <td>1164</td>\n",
       "    </tr>\n",
       "    <tr>\n",
       "      <th>1</th>\n",
       "      <td>-1x-1.jpg</td>\n",
       "      <td>2000</td>\n",
       "      <td>1363</td>\n",
       "      <td>bad</td>\n",
       "      <td>805</td>\n",
       "      <td>43</td>\n",
       "      <td>886</td>\n",
       "      <td>133</td>\n",
       "    </tr>\n",
       "    <tr>\n",
       "      <th>2</th>\n",
       "      <td>-1x-1.jpg</td>\n",
       "      <td>2000</td>\n",
       "      <td>1363</td>\n",
       "      <td>good</td>\n",
       "      <td>584</td>\n",
       "      <td>34</td>\n",
       "      <td>700</td>\n",
       "      <td>129</td>\n",
       "    </tr>\n",
       "    <tr>\n",
       "      <th>3</th>\n",
       "      <td>-1x-1.jpg</td>\n",
       "      <td>2000</td>\n",
       "      <td>1363</td>\n",
       "      <td>good</td>\n",
       "      <td>52</td>\n",
       "      <td>1</td>\n",
       "      <td>160</td>\n",
       "      <td>56</td>\n",
       "    </tr>\n",
       "    <tr>\n",
       "      <th>4</th>\n",
       "      <td>-1x-1.jpg</td>\n",
       "      <td>2000</td>\n",
       "      <td>1363</td>\n",
       "      <td>good</td>\n",
       "      <td>461</td>\n",
       "      <td>181</td>\n",
       "      <td>569</td>\n",
       "      <td>292</td>\n",
       "    </tr>\n",
       "  </tbody>\n",
       "</table>\n",
       "</div>"
      ],
      "text/plain": [
       "    filename  width  height class  xmin  ymin  xmax  ymax\n",
       "0  -1x-1.jpg   2000    1363  good    10   750   252  1164\n",
       "1  -1x-1.jpg   2000    1363   bad   805    43   886   133\n",
       "2  -1x-1.jpg   2000    1363  good   584    34   700   129\n",
       "3  -1x-1.jpg   2000    1363  good    52     1   160    56\n",
       "4  -1x-1.jpg   2000    1363  good   461   181   569   292"
      ]
     },
     "execution_count": 62,
     "metadata": {},
     "output_type": "execute_result"
    }
   ],
   "source": [
    "print('Converting XMLs in folder: ', train_path_xml, '...\\n')\n",
    "train_xml_df = xml_to_csv(train_path_xml)\n",
    "train_xml_df.head()\n"
   ]
  },
  {
   "cell_type": "code",
   "execution_count": 63,
   "metadata": {
    "colab": {
     "base_uri": "https://localhost:8080/",
     "height": 272
    },
    "colab_type": "code",
    "id": "i7OhmPDLHLO0",
    "outputId": "af490ddd-bde9-4628-a911-00893abcb9a1"
   },
   "outputs": [
    {
     "name": "stderr",
     "output_type": "stream",
     "text": [
      "100%|████████████████████████████████████████████████████████████████████████████████| 73/73 [00:00<00:00, 5618.68it/s]"
     ]
    },
    {
     "name": "stdout",
     "output_type": "stream",
     "text": [
      "Converting XMLs in folder:  data/test/labels/ ...\n",
      "\n",
      "-------------> data/test/labels/\n"
     ]
    },
    {
     "name": "stderr",
     "output_type": "stream",
     "text": [
      "\n"
     ]
    },
    {
     "data": {
      "text/html": [
       "<div>\n",
       "<style scoped>\n",
       "    .dataframe tbody tr th:only-of-type {\n",
       "        vertical-align: middle;\n",
       "    }\n",
       "\n",
       "    .dataframe tbody tr th {\n",
       "        vertical-align: top;\n",
       "    }\n",
       "\n",
       "    .dataframe thead th {\n",
       "        text-align: right;\n",
       "    }\n",
       "</style>\n",
       "<table border=\"1\" class=\"dataframe\">\n",
       "  <thead>\n",
       "    <tr style=\"text-align: right;\">\n",
       "      <th></th>\n",
       "      <th>filename</th>\n",
       "      <th>width</th>\n",
       "      <th>height</th>\n",
       "      <th>class</th>\n",
       "      <th>xmin</th>\n",
       "      <th>ymin</th>\n",
       "      <th>xmax</th>\n",
       "      <th>ymax</th>\n",
       "    </tr>\n",
       "  </thead>\n",
       "  <tbody>\n",
       "    <tr>\n",
       "      <th>0</th>\n",
       "      <td>022814asiatodaymasks_960x540.jpg</td>\n",
       "      <td>960</td>\n",
       "      <td>540</td>\n",
       "      <td>bad</td>\n",
       "      <td>319</td>\n",
       "      <td>69</td>\n",
       "      <td>413</td>\n",
       "      <td>133</td>\n",
       "    </tr>\n",
       "    <tr>\n",
       "      <th>1</th>\n",
       "      <td>022814asiatodaymasks_960x540.jpg</td>\n",
       "      <td>960</td>\n",
       "      <td>540</td>\n",
       "      <td>good</td>\n",
       "      <td>70</td>\n",
       "      <td>124</td>\n",
       "      <td>176</td>\n",
       "      <td>224</td>\n",
       "    </tr>\n",
       "    <tr>\n",
       "      <th>2</th>\n",
       "      <td>022814asiatodaymasks_960x540.jpg</td>\n",
       "      <td>960</td>\n",
       "      <td>540</td>\n",
       "      <td>good</td>\n",
       "      <td>42</td>\n",
       "      <td>285</td>\n",
       "      <td>198</td>\n",
       "      <td>458</td>\n",
       "    </tr>\n",
       "    <tr>\n",
       "      <th>3</th>\n",
       "      <td>022814asiatodaymasks_960x540.jpg</td>\n",
       "      <td>960</td>\n",
       "      <td>540</td>\n",
       "      <td>good</td>\n",
       "      <td>334</td>\n",
       "      <td>166</td>\n",
       "      <td>458</td>\n",
       "      <td>297</td>\n",
       "    </tr>\n",
       "    <tr>\n",
       "      <th>4</th>\n",
       "      <td>022814asiatodaymasks_960x540.jpg</td>\n",
       "      <td>960</td>\n",
       "      <td>540</td>\n",
       "      <td>good</td>\n",
       "      <td>551</td>\n",
       "      <td>149</td>\n",
       "      <td>824</td>\n",
       "      <td>409</td>\n",
       "    </tr>\n",
       "  </tbody>\n",
       "</table>\n",
       "</div>"
      ],
      "text/plain": [
       "                           filename  width  height class  xmin  ymin  xmax  \\\n",
       "0  022814asiatodaymasks_960x540.jpg    960     540   bad   319    69   413   \n",
       "1  022814asiatodaymasks_960x540.jpg    960     540  good    70   124   176   \n",
       "2  022814asiatodaymasks_960x540.jpg    960     540  good    42   285   198   \n",
       "3  022814asiatodaymasks_960x540.jpg    960     540  good   334   166   458   \n",
       "4  022814asiatodaymasks_960x540.jpg    960     540  good   551   149   824   \n",
       "\n",
       "   ymax  \n",
       "0   133  \n",
       "1   224  \n",
       "2   458  \n",
       "3   297  \n",
       "4   409  "
      ]
     },
     "execution_count": 63,
     "metadata": {},
     "output_type": "execute_result"
    }
   ],
   "source": [
    "print('Converting XMLs in folder: ', test_path_xml, '...\\n')\n",
    "test_xml_df = xml_to_csv(test_path_xml)\n",
    "test_xml_df.head()"
   ]
  },
  {
   "cell_type": "code",
   "execution_count": 64,
   "metadata": {
    "colab": {
     "base_uri": "https://localhost:8080/",
     "height": 34
    },
    "colab_type": "code",
    "id": "3VUKGJbD4xGM",
    "outputId": "317f8b1c-bb11-421c-be87-88cfe857d11b"
   },
   "outputs": [
    {
     "name": "stdout",
     "output_type": "stream",
     "text": [
      "Successfully converted xml to csv.\n"
     ]
    }
   ],
   "source": [
    "train_xml_df.to_csv(train_path_csv + 'train_labels.csv', index=None)\n",
    "test_xml_df.to_csv(test_path_csv + 'test_labels.csv', index=None)\n",
    "\n",
    "print('Successfully converted xml to csv.')"
   ]
  },
  {
   "cell_type": "code",
   "execution_count": 65,
   "metadata": {
    "colab": {},
    "colab_type": "code",
    "id": "QqmjmroL-77M"
   },
   "outputs": [],
   "source": [
    "from google.protobuf import text_format\n",
    "from tensorflow.python.platform import gfile\n",
    "import io\n",
    "import pandas as pd\n",
    "from object_detection.utils import dataset_util\n",
    "\n",
    "\n",
    "from PIL import Image\n",
    "from collections import namedtuple, OrderedDict\n",
    "\n",
    "def class_text_to_int(row_label):\n",
    "    if row_label == 'good':\n",
    "        return 1\n",
    "    elif row_label =='bad':\n",
    "        return 2\n",
    "    elif row_label =='none': \n",
    "        return 3\n",
    "    return 0\n",
    "\n",
    "def split(df, group):\n",
    "    data = namedtuple('data', ['filename', 'object'])\n",
    "    gb = df.groupby(group)\n",
    "    return [data(filename, gb.get_group(x)) for filename, x in zip(gb.groups.keys(), gb.groups)]\n",
    "\n",
    "def create_tf_example(group, path):\n",
    "    with tf.io.gfile.GFile(os.path.join(path, '{}'.format(group.filename)), 'rb') as fid:\n",
    "        encoded_jpg = fid.read()\n",
    "    encoded_jpg_io = io.BytesIO(encoded_jpg)\n",
    "    image = Image.open(encoded_jpg_io)\n",
    "    width, height = image.size\n",
    "\n",
    "    \"\"\"print('group', group)\n",
    "    print('path', path)\n",
    "    print('width=', width, 'height=',height)\"\"\"\n",
    "\n",
    "    filename = group.filename.encode('utf8')\n",
    "    #print('filename', filename)\n",
    "\n",
    "    image_format = b'jpg'\n",
    "    xmins = []\n",
    "    xmaxs = []\n",
    "    ymins = []\n",
    "    ymaxs = []\n",
    "    classes_text = []\n",
    "    classes = []\n",
    "\n",
    "    for index, row in group.object.iterrows():\n",
    "        xmins.append(row['xmin'] / width)\n",
    "        xmaxs.append(row['xmax'] / width)\n",
    "        ymins.append(row['ymin'] / height)\n",
    "        ymaxs.append(row['ymax'] / height)\n",
    "        classes_text.append(row['class'].encode('utf8'))\n",
    "        classes.append(class_text_to_int(row['class']))\n",
    "\n",
    "    tf_example = tf.train.Example(features=tf.train.Features(feature={\n",
    "        'image/height': dataset_util.int64_feature(height),\n",
    "        'image/width': dataset_util.int64_feature(width),\n",
    "        'image/filename': dataset_util.bytes_feature(filename),\n",
    "        'image/source_id': dataset_util.bytes_feature(filename),\n",
    "        'image/encoded': dataset_util.bytes_feature(encoded_jpg),\n",
    "        'image/format': dataset_util.bytes_feature(image_format),\n",
    "        'image/object/bbox/xmin': dataset_util.float_list_feature(xmins),\n",
    "        'image/object/bbox/xmax': dataset_util.float_list_feature(xmaxs),\n",
    "        'image/object/bbox/ymin': dataset_util.float_list_feature(ymins),\n",
    "        'image/object/bbox/ymax': dataset_util.float_list_feature(ymaxs),\n",
    "        'image/object/class/text': dataset_util.bytes_list_feature(classes_text),\n",
    "        'image/object/class/label': dataset_util.int64_list_feature(classes),\n",
    "    }))\n",
    "    return tf_example"
   ]
  },
  {
   "cell_type": "code",
   "execution_count": 66,
   "metadata": {
    "colab": {
     "base_uri": "https://localhost:8080/",
     "height": 51
    },
    "colab_type": "code",
    "id": "sB3fVxfvo4f1",
    "outputId": "025e52f8-c9c2-4e3e-a2d3-892aa34a9f67"
   },
   "outputs": [
    {
     "name": "stdout",
     "output_type": "stream",
     "text": [
      "3514\n",
      "389\n"
     ]
    }
   ],
   "source": [
    "train_examples = pd.read_csv(train_path_csv + 'train_labels.csv')\n",
    "test_examples = pd.read_csv(test_path_csv + 'test_labels.csv')\n",
    "print(len(train_examples))\n",
    "print(len(test_examples))"
   ]
  },
  {
   "cell_type": "code",
   "execution_count": 67,
   "metadata": {},
   "outputs": [],
   "source": [
    "train = pd.read_csv(\"data/train/csv/train_labels.csv\")\n",
    "filenames = list(train.filename.unique())\n",
    "to_keep = []\n",
    "for f in filenames:\n",
    "    if os.path.exists(\"data/train/images/\"+f):\n",
    "        to_keep.append(f)\n",
    "train = train[train.filename.isin(to_keep)]\n",
    "train.to_csv(\"data/train/csv/train_labels.csv\",index=False)\n",
    "\n",
    "test = pd.read_csv(\"data/test/csv/test_labels.csv\")\n",
    "filenames = list(test.filename.unique())\n",
    "to_keep = []\n",
    "for f in filenames:\n",
    "    if os.path.exists(\"data/test/images/\"+f):\n",
    "        to_keep.append(f)\n",
    "test = test[test.filename.isin(to_keep)]\n",
    "test.to_csv(\"data/test/csv/test_labels.csv\",index=False)"
   ]
  },
  {
   "cell_type": "code",
   "execution_count": 68,
   "metadata": {
    "colab": {},
    "colab_type": "code",
    "id": "Y-8eUvFzBdQh"
   },
   "outputs": [],
   "source": [
    "import tensorflow as tf\n",
    "from tqdm import tqdm, trange\n",
    "\n",
    "def generate_tfrecord(csv_file, record_output_path, record_name, path_to_images):\n",
    "    writer = tf.io.TFRecordWriter(record_output_path + record_name)\n",
    "\n",
    "    examples = pd.read_csv(csv_file)\n",
    "    grouped = split(examples, 'filename')\n",
    "    for group in tqdm(grouped):\n",
    "        tf_example = create_tf_example(group, path_to_images)\n",
    "        writer.write(tf_example.SerializeToString())\n",
    "    writer.close()\n",
    "    print('\\nSuccessfully created ', record_name, ': {}'.format(record_output_path))\n",
    "\n",
    "    return"
   ]
  },
  {
   "cell_type": "code",
   "execution_count": 69,
   "metadata": {
    "colab": {},
    "colab_type": "code",
    "id": "nTQS_4AqMpRl"
   },
   "outputs": [
    {
     "name": "stderr",
     "output_type": "stream",
     "text": [
      "100%|███████████████████████████████████████████████████████████████████████████████| 525/525 [00:01<00:00, 419.76it/s]\n",
      " 11%|████████▉                                                                          | 7/65 [00:00<00:01, 48.44it/s]"
     ]
    },
    {
     "name": "stdout",
     "output_type": "stream",
     "text": [
      "\n",
      "Successfully created  train.record : data/\n"
     ]
    },
    {
     "name": "stderr",
     "output_type": "stream",
     "text": [
      "100%|██████████████████████████████████████████████████████████████████████████████████| 65/65 [00:01<00:00, 60.15it/s]\n"
     ]
    },
    {
     "name": "stdout",
     "output_type": "stream",
     "text": [
      "\n",
      "Successfully created  test.record : data/\n"
     ]
    }
   ],
   "source": [
    "train_csv_file = train_path_csv + 'train_labels.csv'\n",
    "generate_tfrecord(train_csv_file, HOME_DIR, 'train.record', train_path_images)\n",
    "\n",
    "test_csv_file = test_path_csv + 'test_labels.csv'\n",
    "generate_tfrecord(test_csv_file, HOME_DIR, 'test.record', test_path_images)"
   ]
  },
  {
   "cell_type": "code",
   "execution_count": null,
   "metadata": {},
   "outputs": [],
   "source": []
  },
  {
   "cell_type": "code",
   "execution_count": null,
   "metadata": {},
   "outputs": [],
   "source": []
  }
 ],
 "metadata": {
  "accelerator": "GPU",
  "colab": {
   "collapsed_sections": [],
   "include_colab_link": true,
   "machine_shape": "hm",
   "name": "Mask prepare dataset ",
   "provenance": [],
   "toc_visible": true
  },
  "kernelspec": {
   "display_name": "Python 3",
   "language": "python",
   "name": "python3"
  },
  "language_info": {
   "codemirror_mode": {
    "name": "ipython",
    "version": 3
   },
   "file_extension": ".py",
   "mimetype": "text/x-python",
   "name": "python",
   "nbconvert_exporter": "python",
   "pygments_lexer": "ipython3",
   "version": "3.6.8"
  }
 },
 "nbformat": 4,
 "nbformat_minor": 4
}
